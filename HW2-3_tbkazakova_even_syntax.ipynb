{
 "cells": [
  {
   "cell_type": "markdown",
   "id": "70838a72",
   "metadata": {},
   "source": [
    "# Немного эвенского синтаксиса\n",
    "локативного и не только"
   ]
  },
  {
   "cell_type": "markdown",
   "id": "9745f282",
   "metadata": {},
   "source": [
    "G = {N, Σ, S, R}\n",
    "\n",
    "S = CP\n",
    "\n",
    "N = {CP, TP, NP, NPacc, VP, VP1, PP, AdvP, NPloc, T, N, Nacc, V, P, Adv, Nloc}\n",
    "\n",
    "Σ = {bej, stol, urekčən, d’u, oran, delikan, okat-la, d’u-la, stol-la, kartinu-la, d’ol-u, tɨlači-d-de-n, ilači-d-de-n, desči-d-de-n, tore-mači-d-di-n, ur-ri-wu, girka-ri-wu, ule-ri-n, tətə-d-niken, ančin-dula-n, d’ul-ep-ki, amnak, goru}\n",
    "\n",
    "R = {\n",
    "\n",
    "  CP -> TP,\n",
    "  \n",
    "  TP -> NP T\n",
    "  \n",
    "  TP -> T\n",
    "  \n",
    "  TP -> T NP\n",
    "  \n",
    "  T -> VP\n",
    "  \n",
    "  PP -> NP P\n",
    "  \n",
    "  NP -> N\n",
    "  \n",
    "  NP -> N PP\n",
    "  \n",
    "  VP -> LocP VP1\n",
    "  \n",
    "  VP -> VP1 LocP\n",
    "  \n",
    "  VP -> VP1 AdvP\n",
    "  \n",
    "  VP -> AdvP VP1\n",
    "  \n",
    "  VP -> VP1 TP\n",
    "  \n",
    "  VP -> VP1\n",
    "  \n",
    "  VP1 -> V\n",
    "  \n",
    "  VP1 -> V NPacc\n",
    "  \n",
    "  LocP -> PP\n",
    "  \n",
    "  LocP -> NPloc\n",
    "  \n",
    "  NPloc -> Nloc\n",
    "  \n",
    "  NPacc -> Nacc\n",
    "  \n",
    "  AdvP -> Adv\n",
    "}"
   ]
  },
  {
   "cell_type": "code",
   "execution_count": 1,
   "id": "833a999a",
   "metadata": {},
   "outputs": [],
   "source": [
    "from nltk import nonterminals, Production, CFG\n",
    "from nltk.parse import RecursiveDescentParser"
   ]
  },
  {
   "cell_type": "code",
   "execution_count": 145,
   "id": "99da53fa",
   "metadata": {},
   "outputs": [],
   "source": [
    "CP, TP, NP, NPacc, VP, VP1 = nonterminals('CP, TP, NP, NPacc, VP, VP1')\n",
    "PP, AdvP, NPloc = nonterminals('PP, AdvP, NPloc')\n",
    "C, T, N, Nacc, V = nonterminals('C, T, N, Nacc, V')\n",
    "P, Adv, Nloc = nonterminals('P, Adv, Nloc')"
   ]
  },
  {
   "cell_type": "code",
   "execution_count": 158,
   "id": "b4c634d9",
   "metadata": {},
   "outputs": [],
   "source": [
    "grammar = CFG.fromstring(\"\"\"\n",
    "CP -> TP\n",
    "TP -> NP T | T | T NP\n",
    "T -> VP\n",
    "PP -> NP P\n",
    "NP -> N | N PP\n",
    "VP -> LocP VP1 | VP1 LocP | VP1 AdvP | AdvP VP1 | VP1 TP | VP1\n",
    "VP1 -> V | V NPacc\n",
    "LocP -> PP | NPloc\n",
    "NPloc -> Nloc\n",
    "NPacc -> Nacc\n",
    "AdvP -> Adv\n",
    "N -> 'bej' | 'stol' | 'urekčən' | 'd’u' | 'oran' | 'delikan'\n",
    "Nloc -> 'okat-la' | 'd’u-la' | 'stol-la' | 'kartinu-la'\n",
    "Nacc -> 'd’ol-u'\n",
    "V -> 'tɨlači-d-de-n' | 'ilači-d-de-n' | 'desči-d-de-n' | 'tore-mači-d-di-n'\n",
    "V -> 'ur-ri-wu' | 'girka-ri-wu'\n",
    "V -> 'ule-ri-n'\n",
    "V  -> 'tətə-d-niken'\n",
    "P -> 'ančin-dula-n'\n",
    "Adv -> 'd’ul-ep-ki' | 'amnak' | 'goru'\n",
    "\"\"\")"
   ]
  },
  {
   "cell_type": "code",
   "execution_count": 159,
   "id": "0e541963",
   "metadata": {},
   "outputs": [],
   "source": [
    "rd = RecursiveDescentParser(grammar)"
   ]
  },
  {
   "cell_type": "code",
   "execution_count": 168,
   "id": "2a3749bf",
   "metadata": {},
   "outputs": [],
   "source": [
    "sentence1 = 'stol ančin-dula-n tɨlači-d-de-n'.split()\n",
    "# около стола сидит\n",
    "sentence2 = 'd’u ančin-dula-n ilači-d-de-n oran'.split()\n",
    "# около дома стоит олень\n",
    "sentence3 = 'bej ilači-d-de-n d’u ančin-dula-n'.split()\n",
    "# человек стоит около дома\n",
    "sentence4 = 'ur-ri-wu d’ul-ep-ki'.split()\n",
    "# (я) пошёл вперёд\n",
    "sentence5 = 'bej tɨlači-d-de-n stol-la'.split()\n",
    "# человек сидит за столом / на столе\n",
    "sentence6 = 'kartinu-la tɨlači-d-de-n delikan'.split()\n",
    "# на картине сидит муха\n",
    "sentence7 = 'bej ule-ri-n d’ol-u'.split()\n",
    "# человек кинул камень\n",
    "sentence8 = 'bej tore-mači-d-di-n tətə-d-niken'.split()\n",
    "# человек разговаривает, одеваясь"
   ]
  },
  {
   "cell_type": "code",
   "execution_count": 161,
   "id": "91da4634",
   "metadata": {},
   "outputs": [
    {
     "name": "stdout",
     "output_type": "stream",
     "text": [
      "(CP\n",
      "  (TP\n",
      "    (T\n",
      "      (VP\n",
      "        (LocP (PP (NP (N stol)) (P ančin-dula-n)))\n",
      "        (VP1 (V tɨlači-d-de-n))))))\n"
     ]
    }
   ],
   "source": [
    "for t in rd.parse(sentence1):\n",
    "    print(t)"
   ]
  },
  {
   "cell_type": "code",
   "execution_count": 162,
   "id": "3cb72290",
   "metadata": {},
   "outputs": [
    {
     "name": "stdout",
     "output_type": "stream",
     "text": [
      "(CP\n",
      "  (TP\n",
      "    (NP (N bej))\n",
      "    (T\n",
      "      (VP\n",
      "        (VP1 (V ilači-d-de-n))\n",
      "        (LocP (PP (NP (N d’u)) (P ančin-dula-n)))))))\n"
     ]
    }
   ],
   "source": [
    "for t in rd.parse(sentence3):\n",
    "    print(t)"
   ]
  },
  {
   "cell_type": "code",
   "execution_count": 163,
   "id": "82226c11",
   "metadata": {},
   "outputs": [
    {
     "name": "stdout",
     "output_type": "stream",
     "text": [
      "(CP (TP (T (VP (VP1 (V ur-ri-wu)) (AdvP (Adv d’ul-ep-ki))))))\n"
     ]
    }
   ],
   "source": [
    "for t in rd.parse(sentence4):\n",
    "    print(t)"
   ]
  },
  {
   "cell_type": "code",
   "execution_count": 164,
   "id": "ff385704",
   "metadata": {},
   "outputs": [
    {
     "name": "stdout",
     "output_type": "stream",
     "text": [
      "(CP\n",
      "  (TP\n",
      "    (NP (N bej))\n",
      "    (T (VP (VP1 (V tɨlači-d-de-n)) (LocP (NPloc (Nloc stol-la)))))))\n"
     ]
    }
   ],
   "source": [
    "for t in rd.parse(sentence5):\n",
    "    print(t)"
   ]
  },
  {
   "cell_type": "code",
   "execution_count": 165,
   "id": "627c5d12",
   "metadata": {},
   "outputs": [
    {
     "name": "stdout",
     "output_type": "stream",
     "text": [
      "(CP\n",
      "  (TP\n",
      "    (T (VP (LocP (NPloc (Nloc kartinu-la))) (VP1 (V tɨlači-d-de-n))))\n",
      "    (NP (N delikan))))\n"
     ]
    }
   ],
   "source": [
    "for t in rd.parse(sentence6):\n",
    "    print(t)"
   ]
  },
  {
   "cell_type": "code",
   "execution_count": 166,
   "id": "d992920e",
   "metadata": {},
   "outputs": [
    {
     "name": "stdout",
     "output_type": "stream",
     "text": [
      "(CP\n",
      "  (TP (NP (N bej)) (T (VP (VP1 (V ule-ri-n) (NPacc (Nacc d’ol-u)))))))\n"
     ]
    }
   ],
   "source": [
    "for t in rd.parse(sentence7):\n",
    "    print(t)"
   ]
  },
  {
   "cell_type": "code",
   "execution_count": 169,
   "id": "b4b53975",
   "metadata": {},
   "outputs": [
    {
     "name": "stdout",
     "output_type": "stream",
     "text": [
      "(CP\n",
      "  (TP\n",
      "    (NP (N bej))\n",
      "    (T\n",
      "      (VP\n",
      "        (VP1 (V tore-mači-d-di-n))\n",
      "        (TP (T (VP (VP1 (V tətə-d-niken)))))))))\n"
     ]
    }
   ],
   "source": [
    "for t in rd.parse(sentence8):\n",
    "    print(t)"
   ]
  }
 ],
 "metadata": {
  "kernelspec": {
   "display_name": "Python 3 (ipykernel)",
   "language": "python",
   "name": "python3"
  },
  "language_info": {
   "codemirror_mode": {
    "name": "ipython",
    "version": 3
   },
   "file_extension": ".py",
   "mimetype": "text/x-python",
   "name": "python",
   "nbconvert_exporter": "python",
   "pygments_lexer": "ipython3",
   "version": "3.9.16"
  }
 },
 "nbformat": 4,
 "nbformat_minor": 5
}
