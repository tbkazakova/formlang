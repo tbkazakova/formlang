{
 "cells": [
  {
   "cell_type": "markdown",
   "metadata": {},
   "source": [
    "# Снятие омонимии"
   ]
  },
  {
   "cell_type": "code",
   "execution_count": 3,
   "metadata": {
    "colab": {
     "base_uri": "https://localhost:8080/"
    },
    "id": "PPhS-6YbNamN",
    "outputId": "7f786134-abb5-4190-d9d1-f0ede3ca5834"
   },
   "outputs": [],
   "source": [
    "#! pip install conllu"
   ]
  },
  {
   "cell_type": "code",
   "execution_count": 4,
   "metadata": {
    "colab": {
     "base_uri": "https://localhost:8080/"
    },
    "id": "ggQeRaW85KJt",
    "outputId": "a0e01945-a439-4b66-ceaa-867ec138f628"
   },
   "outputs": [],
   "source": [
    "# !pip install git+https://github.com/MeMartijn/updated-sklearn-crfsuite.git"
   ]
  },
  {
   "cell_type": "code",
   "execution_count": 92,
   "metadata": {
    "id": "OStvEdPLUSUj"
   },
   "outputs": [],
   "source": [
    "from io import open\n",
    "from tqdm import tqdm\n",
    "import sklearn_crfsuite\n",
    "from sklearn_crfsuite import scorers\n",
    "from sklearn_crfsuite import metrics\n",
    "from collections import Counter\n",
    "from conllu import parse_incr  # https://pypi.org/project/conllu/\n",
    "from sklearn.metrics import confusion_matrix, ConfusionMatrixDisplay\n",
    "from sklearn.preprocessing import MultiLabelBinarizer\n",
    "import matplotlib.pyplot as plt"
   ]
  },
  {
   "cell_type": "markdown",
   "metadata": {
    "id": "qpCDSzX8QEAQ"
   },
   "source": [
    "Берём [UD SyntagRus](https://github.com/UniversalDependencies/UD_Russian-SynTagRus):"
   ]
  },
  {
   "cell_type": "code",
   "execution_count": 7,
   "metadata": {
    "colab": {
     "base_uri": "https://localhost:8080/"
    },
    "id": "dn9_1eg1RGWD",
    "outputId": "f681fdb7-4b56-413d-9bd7-ddf0ae58db02"
   },
   "outputs": [],
   "source": [
    "# train - часть a (надеемся, что хватит материала для обучения)\n",
    "# !wget https://raw.githubusercontent.com/UniversalDependencies/UD_Russian-SynTagRus/master/ru_syntagrus-ud-train-a.conllu"
   ]
  },
  {
   "cell_type": "code",
   "execution_count": 9,
   "metadata": {
    "colab": {
     "base_uri": "https://localhost:8080/"
    },
    "id": "qAcTCgdRSQAq",
    "outputId": "72f64953-b89c-44c4-c680-5b8950738d08"
   },
   "outputs": [],
   "source": [
    "# test\n",
    "# !wget https://raw.githubusercontent.com/UniversalDependencies/UD_Russian-SynTagRus/master/ru_syntagrus-ud-test.conllu"
   ]
  },
  {
   "cell_type": "markdown",
   "metadata": {},
   "source": [
    "Будем парсить conllu. Спасибо, parse_incr()."
   ]
  },
  {
   "cell_type": "code",
   "execution_count": 60,
   "metadata": {},
   "outputs": [
    {
     "name": "stdout",
     "output_type": "stream",
     "text": [
      "TokenList<Анкета, ., metadata={sent_id: \"2003Anketa.xml_1\", text: \"Анкета.\"}>\n",
      "2\n",
      ". . PUNCT\n",
      "TokenList<Начальник, областного, управления, связи, Семен, Еремеевич, был, человек, простой, ,, приходил, на, работу, всегда, вовремя, ,, здоровался, с, секретаршей, за, руку, и, иногда, даже, писал, в, стенгазету, заметки, под, псевдонимом, \", Муха, \", ., metadata={sent_id: \"2003Anketa.xml_2\", text: \"Начальник областного управления связи Семен Еремеевич был человек простой, приходил на работу всегда вовремя, здоровался с секретаршей за руку и иногда даже писал в стенгазету заметки под псевдонимом \"Муха\".\"}>\n",
      "34\n",
      "областного областной ADJ\n"
     ]
    }
   ],
   "source": [
    "with open(\"ru_syntagrus-ud-train-a.conllu\", \"r\", encoding=\"utf-8\") as f:\n",
    "    i = 0\n",
    "    for t in parse_incr(f):\n",
    "        print(t)\n",
    "        print(len(t))\n",
    "        print(t[1], t[1]['lemma'], t[1]['upos'])  # слово, лемма, pos\n",
    "        i += 1\n",
    "        if i > 1:\n",
    "            break\n"
   ]
  },
  {
   "cell_type": "code",
   "execution_count": 67,
   "metadata": {
    "id": "ySoGj1z6UKtC"
   },
   "outputs": [],
   "source": [
    "# https://sklearn-crfsuite.readthedocs.io/en/latest/tutorial.html#features\n",
    "# берёт предложение и номер слова, для которого делает словарь фичей\n",
    "def word2features(sent, i):\n",
    "    word = sent[i]['form']\n",
    "\n",
    "    features = {\n",
    "        'bias': 1.0,\n",
    "        'word.lower()': word.lower(),\n",
    "        'word[-3:]': word[-3:],\n",
    "        'word[-2:]': word[-2:],\n",
    "        'word.isupper()': word.isupper(),\n",
    "        'word.istitle()': word.istitle(),\n",
    "        'word.isdigit()': word.isdigit(),\n",
    "    }\n",
    "\n",
    "    if i > 0:\n",
    "        prev_word = sent[i-1]['lemma']\n",
    "        features.update({\n",
    "            '-1:word.lower()': prev_word.lower(),\n",
    "            '-1:word.istitle()': prev_word.istitle(),\n",
    "            '-1:word.isupper()': prev_word.isupper(),\n",
    "        })\n",
    "    else:\n",
    "        features['BOS'] = True\n",
    "\n",
    "    if i < len(sent) - 1:\n",
    "        next_word = sent[i+1]['lemma']\n",
    "        features.update({\n",
    "            '+1:word.lower()': next_word.lower(),\n",
    "            '+1:word.istitle()': next_word.istitle(),\n",
    "            '+1:word.isupper()': next_word.isupper(),\n",
    "        })\n",
    "    else:\n",
    "        features['EOS'] = True\n",
    "\n",
    "    return features"
   ]
  },
  {
   "cell_type": "code",
   "execution_count": 68,
   "metadata": {
    "id": "GeZGzOBCZqUv"
   },
   "outputs": [],
   "source": [
    "# делает список crf фичей для всех слов одного предложения\n",
    "def sent2features(sent):\n",
    "    return [word2features(sent, i) for i in range(len(sent))]"
   ]
  },
  {
   "cell_type": "code",
   "execution_count": 69,
   "metadata": {
    "id": "vwb_ZwS6aup_"
   },
   "outputs": [],
   "source": [
    "# достаёт список pos из предложения\n",
    "def sent2labels(sent):\n",
    "    return [word['upos'] for word in sent]"
   ]
  },
  {
   "cell_type": "code",
   "execution_count": 106,
   "metadata": {
    "id": "HD-g-2QKS73O"
   },
   "outputs": [],
   "source": [
    "# объединение предыдущих двух\n",
    "def get_features_labels(filename):\n",
    "    X = []\n",
    "    y = []\n",
    "    with open(filename, \"r\", encoding=\"utf-8\") as f:\n",
    "        for s in tqdm(parse_incr(f)):\n",
    "            X.append(sent2features(s))\n",
    "            y.append(sent2labels(s))\n",
    "\n",
    "    return X, y"
   ]
  },
  {
   "cell_type": "markdown",
   "metadata": {},
   "source": [
    "Достаём фичи и pos из train и test"
   ]
  },
  {
   "cell_type": "code",
   "execution_count": 119,
   "metadata": {
    "colab": {
     "base_uri": "https://localhost:8080/"
    },
    "id": "_kW_oduZahTW",
    "outputId": "6074e334-19a5-4347-cd0a-5c5ac9ea4a41"
   },
   "outputs": [
    {
     "name": "stderr",
     "output_type": "stream",
     "text": [
      "24516it [00:28, 855.43it/s] \n"
     ]
    }
   ],
   "source": [
    "X_train, y_train = get_features_labels(\"ru_syntagrus-ud-train-a.conllu\")"
   ]
  },
  {
   "cell_type": "code",
   "execution_count": 31,
   "metadata": {
    "colab": {
     "base_uri": "https://localhost:8080/"
    },
    "id": "ixOiR92UdcS0",
    "outputId": "c7b986f1-80c1-40cb-ddff-c59e7ec5da19"
   },
   "outputs": [
    {
     "name": "stderr",
     "output_type": "stream",
     "text": [
      "8800it [00:08, 983.94it/s] \n"
     ]
    }
   ],
   "source": [
    "X_test, y_test = get_features_labels(\"ru_syntagrus-ud-test.conllu\")"
   ]
  },
  {
   "cell_type": "code",
   "execution_count": 84,
   "metadata": {
    "id": "mpaL45iZmKqc"
   },
   "outputs": [
    {
     "data": {
      "text/plain": [
       "{'bias': 1.0,\n",
       " 'word.lower()': 'анкета',\n",
       " 'word[-3:]': 'ета',\n",
       " 'word[-2:]': 'та',\n",
       " 'word.isupper()': False,\n",
       " 'word.istitle()': True,\n",
       " 'word.isdigit()': False,\n",
       " 'BOS': True,\n",
       " '+1:word.lower()': '.',\n",
       " '+1:word.istitle()': False,\n",
       " '+1:word.isupper()': False}"
      ]
     },
     "execution_count": 84,
     "metadata": {},
     "output_type": "execute_result"
    }
   ],
   "source": [
    "X_train[0][0]"
   ]
  },
  {
   "cell_type": "code",
   "execution_count": 85,
   "metadata": {},
   "outputs": [
    {
     "data": {
      "text/plain": [
       "'NOUN'"
      ]
     },
     "execution_count": 85,
     "metadata": {},
     "output_type": "execute_result"
    }
   ],
   "source": [
    "y_train[0][0]"
   ]
  },
  {
   "cell_type": "markdown",
   "metadata": {},
   "source": [
    "Вот такие теги в test"
   ]
  },
  {
   "cell_type": "code",
   "execution_count": 86,
   "metadata": {
    "colab": {
     "base_uri": "https://localhost:8080/"
    },
    "id": "l1KcLsMilhPJ",
    "outputId": "3cc05e19-fd77-4aa8-cdea-3ad35d229106"
   },
   "outputs": [],
   "source": [
    "allposlist = sum(y_train, [])"
   ]
  },
  {
   "cell_type": "code",
   "execution_count": 78,
   "metadata": {},
   "outputs": [
    {
     "data": {
      "text/plain": [
       "Counter({'NOUN': 103538,\n",
       "         'PUNCT': 77972,\n",
       "         'ADJ': 43357,\n",
       "         'PROPN': 14855,\n",
       "         'AUX': 3537,\n",
       "         'VERB': 47731,\n",
       "         'ADP': 39344,\n",
       "         'ADV': 22733,\n",
       "         'CCONJ': 15168,\n",
       "         'PART': 13556,\n",
       "         'PRON': 18733,\n",
       "         'DET': 10781,\n",
       "         'SCONJ': 8057,\n",
       "         'NUM': 5640,\n",
       "         '_': 521,\n",
       "         'INTJ': 50,\n",
       "         'X': 189,\n",
       "         'SYM': 420})"
      ]
     },
     "execution_count": 78,
     "metadata": {},
     "output_type": "execute_result"
    }
   ],
   "source": [
    "Counter(allposlist)"
   ]
  },
  {
   "cell_type": "markdown",
   "metadata": {
    "id": "xMUKYYeReQpr"
   },
   "source": [
    "### Обучаем"
   ]
  },
  {
   "cell_type": "code",
   "execution_count": 87,
   "metadata": {
    "colab": {
     "base_uri": "https://localhost:8080/",
     "height": 1000
    },
    "id": "XNG5K9U8dxIb",
    "outputId": "73cd56e7-4a4b-4be0-846d-2cf3dcd0ff35"
   },
   "outputs": [
    {
     "name": "stderr",
     "output_type": "stream",
     "text": [
      "loading training data to CRFsuite: 100%|█| 24516/24516 [00:11<00:00, 2094.12it/s\n"
     ]
    },
    {
     "name": "stdout",
     "output_type": "stream",
     "text": [
      "\n",
      "Feature generation\n",
      "type: CRF1d\n",
      "feature.minfreq: 0.000000\n",
      "feature.possible_states: 0\n",
      "feature.possible_transitions: 1\n",
      "0....1....2....3....4....5....6....7....8....9....10\n",
      "Number of features: 208234\n",
      "Seconds required: 2.532\n",
      "\n",
      "L-BFGS optimization\n",
      "c1: 0.100000\n",
      "c2: 0.100000\n",
      "num_memories: 6\n",
      "max_iterations: 100\n",
      "epsilon: 0.000010\n",
      "stop: 10\n",
      "delta: 0.000010\n",
      "linesearch: MoreThuente\n",
      "linesearch.max_iterations: 20\n",
      "\n",
      "Iter 1   time=2.19  loss=1082582.33 active=205848 feature_norm=1.00\n",
      "Iter 2   time=1.13  loss=877474.30 active=202952 feature_norm=8.53\n",
      "Iter 3   time=0.94  loss=688672.29 active=199032 feature_norm=9.01\n",
      "Iter 4   time=1.11  loss=621719.77 active=203848 feature_norm=9.27\n",
      "Iter 5   time=0.88  loss=541354.58 active=203604 feature_norm=10.97\n",
      "Iter 6   time=0.82  loss=448022.20 active=203301 feature_norm=15.18\n",
      "Iter 7   time=0.92  loss=376281.58 active=203020 feature_norm=21.84\n",
      "Iter 8   time=0.86  loss=320526.35 active=203018 feature_norm=26.30\n",
      "Iter 9   time=0.82  loss=285730.63 active=202955 feature_norm=30.38\n",
      "Iter 10  time=0.92  loss=234924.59 active=195962 feature_norm=39.59\n",
      "Iter 11  time=0.87  loss=216496.53 active=193321 feature_norm=47.93\n",
      "Iter 12  time=0.98  loss=189409.26 active=194680 feature_norm=50.43\n",
      "Iter 13  time=1.01  loss=177759.32 active=193766 feature_norm=53.81\n",
      "Iter 14  time=0.95  loss=160718.10 active=191536 feature_norm=59.89\n",
      "Iter 15  time=0.94  loss=141768.03 active=185956 feature_norm=72.14\n",
      "Iter 16  time=0.88  loss=124279.32 active=178677 feature_norm=80.31\n",
      "Iter 17  time=0.80  loss=116166.51 active=175955 feature_norm=84.10\n",
      "Iter 18  time=0.91  loss=107578.07 active=173861 feature_norm=89.64\n",
      "Iter 19  time=0.95  loss=95575.31 active=167807 feature_norm=101.45\n",
      "Iter 20  time=0.81  loss=89540.77 active=162671 feature_norm=113.70\n",
      "Iter 21  time=0.81  loss=82047.63 active=160317 feature_norm=119.40\n",
      "Iter 22  time=0.84  loss=77387.88 active=154256 feature_norm=125.16\n",
      "Iter 23  time=0.80  loss=70503.21 active=142204 feature_norm=143.59\n",
      "Iter 24  time=0.86  loss=65012.03 active=140433 feature_norm=154.08\n",
      "Iter 25  time=0.84  loss=61625.50 active=139804 feature_norm=159.94\n",
      "Iter 26  time=0.84  loss=57140.20 active=136412 feature_norm=171.80\n",
      "Iter 27  time=0.85  loss=52892.17 active=130230 feature_norm=182.81\n",
      "Iter 28  time=0.84  loss=49834.65 active=126272 feature_norm=194.44\n",
      "Iter 29  time=0.81  loss=47498.87 active=124191 feature_norm=201.93\n",
      "Iter 30  time=0.78  loss=45018.87 active=120302 feature_norm=213.92\n",
      "Iter 31  time=0.83  loss=42722.73 active=116254 feature_norm=226.36\n",
      "Iter 32  time=0.79  loss=40790.08 active=113157 feature_norm=238.30\n",
      "Iter 33  time=0.76  loss=39408.93 active=110334 feature_norm=245.92\n",
      "Iter 34  time=0.84  loss=38016.14 active=105298 feature_norm=256.84\n",
      "Iter 35  time=0.87  loss=36987.25 active=98935 feature_norm=269.66\n",
      "Iter 36  time=0.76  loss=36297.64 active=98291 feature_norm=271.62\n",
      "Iter 37  time=0.83  loss=35695.19 active=96639 feature_norm=275.51\n",
      "Iter 38  time=0.84  loss=35097.00 active=94774 feature_norm=280.00\n",
      "Iter 39  time=1.57  loss=34736.17 active=92997 feature_norm=284.69\n",
      "Iter 40  time=0.82  loss=34291.13 active=91580 feature_norm=286.51\n",
      "Iter 41  time=0.77  loss=34010.47 active=89630 feature_norm=288.44\n",
      "Iter 42  time=0.80  loss=33680.88 active=88382 feature_norm=291.07\n",
      "Iter 43  time=1.65  loss=33618.87 active=87593 feature_norm=292.50\n",
      "Iter 44  time=0.82  loss=33414.17 active=87403 feature_norm=292.75\n",
      "Iter 45  time=0.84  loss=33311.60 active=86607 feature_norm=293.28\n",
      "Iter 46  time=0.82  loss=33135.66 active=83674 feature_norm=294.30\n",
      "Iter 47  time=1.98  loss=33127.24 active=82288 feature_norm=294.83\n",
      "Iter 48  time=0.80  loss=32958.68 active=81442 feature_norm=294.92\n",
      "Iter 49  time=0.80  loss=32870.03 active=80591 feature_norm=295.22\n",
      "Iter 50  time=0.83  loss=32752.58 active=77171 feature_norm=296.42\n",
      "Iter 51  time=0.90  loss=32637.00 active=76340 feature_norm=296.59\n",
      "Iter 52  time=0.80  loss=32575.89 active=74982 feature_norm=296.77\n",
      "Iter 53  time=0.84  loss=32449.93 active=73115 feature_norm=297.57\n",
      "Iter 54  time=1.61  loss=32425.68 active=72935 feature_norm=297.66\n",
      "Iter 55  time=0.84  loss=32367.83 active=72609 feature_norm=297.97\n",
      "Iter 56  time=0.82  loss=32302.00 active=71555 feature_norm=298.57\n",
      "Iter 57  time=0.79  loss=32240.61 active=70763 feature_norm=298.99\n",
      "Iter 58  time=0.82  loss=32183.24 active=69390 feature_norm=299.68\n",
      "Iter 59  time=0.81  loss=32142.00 active=68261 feature_norm=300.15\n",
      "Iter 60  time=0.76  loss=32099.72 active=67933 feature_norm=300.42\n",
      "Iter 61  time=0.83  loss=32064.67 active=67350 feature_norm=300.72\n",
      "Iter 62  time=0.81  loss=32028.47 active=66632 feature_norm=301.10\n",
      "Iter 63  time=0.76  loss=31990.20 active=66303 feature_norm=301.38\n",
      "Iter 64  time=0.92  loss=31958.29 active=65851 feature_norm=301.65\n",
      "Iter 65  time=0.83  loss=31928.93 active=65649 feature_norm=301.90\n",
      "Iter 66  time=0.76  loss=31901.54 active=65296 feature_norm=302.17\n",
      "Iter 67  time=0.84  loss=31874.73 active=64994 feature_norm=302.38\n",
      "Iter 68  time=0.95  loss=31851.16 active=64807 feature_norm=302.58\n",
      "Iter 69  time=0.94  loss=31828.95 active=64505 feature_norm=302.76\n",
      "Iter 70  time=1.01  loss=31811.79 active=64194 feature_norm=302.97\n",
      "Iter 71  time=0.88  loss=31793.29 active=63986 feature_norm=303.15\n",
      "Iter 72  time=0.76  loss=31776.87 active=63720 feature_norm=303.31\n",
      "Iter 73  time=0.83  loss=31763.62 active=63519 feature_norm=303.47\n",
      "Iter 74  time=0.82  loss=31750.50 active=63258 feature_norm=303.61\n",
      "Iter 75  time=0.77  loss=31740.00 active=63082 feature_norm=303.76\n",
      "Iter 76  time=0.83  loss=31729.21 active=62908 feature_norm=303.92\n",
      "Iter 77  time=0.83  loss=31718.58 active=62805 feature_norm=304.07\n",
      "Iter 78  time=0.78  loss=31709.49 active=62704 feature_norm=304.20\n",
      "Iter 79  time=0.82  loss=31701.46 active=62662 feature_norm=304.34\n",
      "Iter 80  time=0.85  loss=31693.10 active=62584 feature_norm=304.47\n",
      "Iter 81  time=0.76  loss=31685.25 active=62528 feature_norm=304.59\n",
      "Iter 82  time=0.83  loss=31677.72 active=62458 feature_norm=304.70\n",
      "Iter 83  time=0.84  loss=31670.92 active=62417 feature_norm=304.81\n",
      "Iter 84  time=0.78  loss=31664.45 active=62333 feature_norm=304.91\n",
      "Iter 85  time=0.92  loss=31658.30 active=62261 feature_norm=305.01\n",
      "Iter 86  time=0.90  loss=31652.54 active=62208 feature_norm=305.10\n",
      "Iter 87  time=0.85  loss=31646.16 active=62160 feature_norm=305.19\n",
      "Iter 88  time=0.81  loss=31641.15 active=62092 feature_norm=305.26\n",
      "Iter 89  time=0.95  loss=31635.96 active=62035 feature_norm=305.34\n",
      "Iter 90  time=0.80  loss=31631.08 active=61961 feature_norm=305.40\n",
      "Iter 91  time=0.82  loss=31626.26 active=61902 feature_norm=305.48\n",
      "Iter 92  time=0.88  loss=31621.42 active=61826 feature_norm=305.53\n",
      "Iter 93  time=0.83  loss=31617.26 active=61778 feature_norm=305.59\n",
      "Iter 94  time=0.82  loss=31612.81 active=61729 feature_norm=305.63\n",
      "Iter 95  time=0.84  loss=31608.75 active=61669 feature_norm=305.68\n",
      "Iter 96  time=0.81  loss=31604.23 active=61614 feature_norm=305.73\n",
      "Iter 97  time=0.81  loss=31600.39 active=61558 feature_norm=305.78\n",
      "Iter 98  time=0.82  loss=31595.90 active=61518 feature_norm=305.81\n",
      "Iter 99  time=0.82  loss=31591.62 active=61457 feature_norm=305.85\n",
      "Iter 100 time=0.79  loss=31586.91 active=61405 feature_norm=305.86\n",
      "L-BFGS terminated with the maximum number of iterations\n",
      "Total seconds required for training: 89.504\n",
      "\n",
      "Storing the model\n",
      "Number of active features: 61405 (208234)\n",
      "Number of active attributes: 39117 (121091)\n",
      "Number of active labels: 18 (18)\n",
      "Writing labels\n",
      "Writing attributes\n",
      "Writing feature references for transitions\n",
      "Writing feature references for attributes\n",
      "Seconds required: 0.498\n",
      "\n"
     ]
    },
    {
     "data": {
      "text/html": [
       "<style>#sk-container-id-1 {color: black;background-color: white;}#sk-container-id-1 pre{padding: 0;}#sk-container-id-1 div.sk-toggleable {background-color: white;}#sk-container-id-1 label.sk-toggleable__label {cursor: pointer;display: block;width: 100%;margin-bottom: 0;padding: 0.3em;box-sizing: border-box;text-align: center;}#sk-container-id-1 label.sk-toggleable__label-arrow:before {content: \"▸\";float: left;margin-right: 0.25em;color: #696969;}#sk-container-id-1 label.sk-toggleable__label-arrow:hover:before {color: black;}#sk-container-id-1 div.sk-estimator:hover label.sk-toggleable__label-arrow:before {color: black;}#sk-container-id-1 div.sk-toggleable__content {max-height: 0;max-width: 0;overflow: hidden;text-align: left;background-color: #f0f8ff;}#sk-container-id-1 div.sk-toggleable__content pre {margin: 0.2em;color: black;border-radius: 0.25em;background-color: #f0f8ff;}#sk-container-id-1 input.sk-toggleable__control:checked~div.sk-toggleable__content {max-height: 200px;max-width: 100%;overflow: auto;}#sk-container-id-1 input.sk-toggleable__control:checked~label.sk-toggleable__label-arrow:before {content: \"▾\";}#sk-container-id-1 div.sk-estimator input.sk-toggleable__control:checked~label.sk-toggleable__label {background-color: #d4ebff;}#sk-container-id-1 div.sk-label input.sk-toggleable__control:checked~label.sk-toggleable__label {background-color: #d4ebff;}#sk-container-id-1 input.sk-hidden--visually {border: 0;clip: rect(1px 1px 1px 1px);clip: rect(1px, 1px, 1px, 1px);height: 1px;margin: -1px;overflow: hidden;padding: 0;position: absolute;width: 1px;}#sk-container-id-1 div.sk-estimator {font-family: monospace;background-color: #f0f8ff;border: 1px dotted black;border-radius: 0.25em;box-sizing: border-box;margin-bottom: 0.5em;}#sk-container-id-1 div.sk-estimator:hover {background-color: #d4ebff;}#sk-container-id-1 div.sk-parallel-item::after {content: \"\";width: 100%;border-bottom: 1px solid gray;flex-grow: 1;}#sk-container-id-1 div.sk-label:hover label.sk-toggleable__label {background-color: #d4ebff;}#sk-container-id-1 div.sk-serial::before {content: \"\";position: absolute;border-left: 1px solid gray;box-sizing: border-box;top: 0;bottom: 0;left: 50%;z-index: 0;}#sk-container-id-1 div.sk-serial {display: flex;flex-direction: column;align-items: center;background-color: white;padding-right: 0.2em;padding-left: 0.2em;position: relative;}#sk-container-id-1 div.sk-item {position: relative;z-index: 1;}#sk-container-id-1 div.sk-parallel {display: flex;align-items: stretch;justify-content: center;background-color: white;position: relative;}#sk-container-id-1 div.sk-item::before, #sk-container-id-1 div.sk-parallel-item::before {content: \"\";position: absolute;border-left: 1px solid gray;box-sizing: border-box;top: 0;bottom: 0;left: 50%;z-index: -1;}#sk-container-id-1 div.sk-parallel-item {display: flex;flex-direction: column;z-index: 1;position: relative;background-color: white;}#sk-container-id-1 div.sk-parallel-item:first-child::after {align-self: flex-end;width: 50%;}#sk-container-id-1 div.sk-parallel-item:last-child::after {align-self: flex-start;width: 50%;}#sk-container-id-1 div.sk-parallel-item:only-child::after {width: 0;}#sk-container-id-1 div.sk-dashed-wrapped {border: 1px dashed gray;margin: 0 0.4em 0.5em 0.4em;box-sizing: border-box;padding-bottom: 0.4em;background-color: white;}#sk-container-id-1 div.sk-label label {font-family: monospace;font-weight: bold;display: inline-block;line-height: 1.2em;}#sk-container-id-1 div.sk-label-container {text-align: center;}#sk-container-id-1 div.sk-container {/* jupyter's `normalize.less` sets `[hidden] { display: none; }` but bootstrap.min.css set `[hidden] { display: none !important; }` so we also need the `!important` here to be able to override the default hidden behavior on the sphinx rendered scikit-learn.org. See: https://github.com/scikit-learn/scikit-learn/issues/21755 */display: inline-block !important;position: relative;}#sk-container-id-1 div.sk-text-repr-fallback {display: none;}</style><div id=\"sk-container-id-1\" class=\"sk-top-container\"><div class=\"sk-text-repr-fallback\"><pre>CRF(algorithm=&#x27;lbfgs&#x27;, all_possible_transitions=True, c1=0.1, c2=0.1,\n",
       "    max_iterations=100, verbose=True)</pre><b>In a Jupyter environment, please rerun this cell to show the HTML representation or trust the notebook. <br />On GitHub, the HTML representation is unable to render, please try loading this page with nbviewer.org.</b></div><div class=\"sk-container\" hidden><div class=\"sk-item\"><div class=\"sk-estimator sk-toggleable\"><input class=\"sk-toggleable__control sk-hidden--visually\" id=\"sk-estimator-id-1\" type=\"checkbox\" checked><label for=\"sk-estimator-id-1\" class=\"sk-toggleable__label sk-toggleable__label-arrow\">CRF</label><div class=\"sk-toggleable__content\"><pre>CRF(algorithm=&#x27;lbfgs&#x27;, all_possible_transitions=True, c1=0.1, c2=0.1,\n",
       "    max_iterations=100, verbose=True)</pre></div></div></div></div></div>"
      ],
      "text/plain": [
       "CRF(algorithm='lbfgs', all_possible_transitions=True, c1=0.1, c2=0.1,\n",
       "    max_iterations=100, verbose=True)"
      ]
     },
     "execution_count": 87,
     "metadata": {},
     "output_type": "execute_result"
    }
   ],
   "source": [
    "crf = sklearn_crfsuite.CRF(\n",
    "    algorithm='lbfgs',\n",
    "    c1=0.1,\n",
    "    c2=0.1,\n",
    "    max_iterations=100,\n",
    "    all_possible_transitions=True,\n",
    "    verbose=True\n",
    ")\n",
    "\n",
    "crf.fit(X_train, y_train)"
   ]
  },
  {
   "cell_type": "markdown",
   "metadata": {
    "id": "sZzZjwOoiQeu"
   },
   "source": [
    "### Проверим успешность"
   ]
  },
  {
   "cell_type": "code",
   "execution_count": 90,
   "metadata": {
    "id": "9beY1-PuhMQV"
   },
   "outputs": [],
   "source": [
    "y_pred = crf.predict(X_test)"
   ]
  },
  {
   "cell_type": "code",
   "execution_count": 93,
   "metadata": {
    "id": "_H4U9Gt1iWSB"
   },
   "outputs": [],
   "source": [
    "labels = list(crf.classes_)"
   ]
  },
  {
   "cell_type": "code",
   "execution_count": 98,
   "metadata": {
    "colab": {
     "base_uri": "https://localhost:8080/"
    },
    "id": "p6ZP2Hg1f8-V",
    "outputId": "4747fe88-35c6-4ce9-e531-d6b728a4decb"
   },
   "outputs": [
    {
     "name": "stdout",
     "output_type": "stream",
     "text": [
      "              precision    recall  f1-score   support\n",
      "\n",
      "        NOUN      0.979     0.947     0.963     36568\n",
      "       PUNCT      1.000     1.000     1.000     29463\n",
      "         ADJ      0.900     0.939     0.919     14471\n",
      "       PROPN      0.705     0.967     0.816      5883\n",
      "         AUX      0.939     0.922     0.931      1518\n",
      "        VERB      0.962     0.928     0.945     18146\n",
      "         ADP      0.998     0.995     0.996     15062\n",
      "         ADV      0.927     0.901     0.914      8085\n",
      "       CCONJ      0.958     0.963     0.961      5736\n",
      "        PART      0.950     0.879     0.913      4921\n",
      "        PRON      0.958     0.946     0.952      8015\n",
      "         DET      0.941     0.877     0.908      4094\n",
      "       SCONJ      0.897     0.948     0.922      2992\n",
      "         NUM      0.953     0.920     0.937      2528\n",
      "           _      1.000     1.000     1.000       271\n",
      "        INTJ      1.000     0.130     0.231        23\n",
      "           X      0.947     0.375     0.537        48\n",
      "         SYM      1.000     1.000     1.000       165\n",
      "\n",
      "    accuracy                          0.953    157989\n",
      "   macro avg      0.945     0.869     0.880    157989\n",
      "weighted avg      0.957     0.953     0.954    157989\n",
      "\n"
     ]
    }
   ],
   "source": [
    "print(metrics.flat_classification_report(y_test, y_pred, labels=labels, digits=3))"
   ]
  },
  {
   "cell_type": "markdown",
   "metadata": {},
   "source": [
    "f1 weighted = 0.954. Мне нравится"
   ]
  },
  {
   "cell_type": "markdown",
   "metadata": {
    "id": "1PAwQ2PMifUb"
   },
   "source": [
    "### Что с чем больше путается?"
   ]
  },
  {
   "cell_type": "code",
   "execution_count": 100,
   "metadata": {
    "id": "ToBlR8wvk8Yg"
   },
   "outputs": [],
   "source": [
    "cm = confusion_matrix(sum(y_test, []), sum(y_pred, []), labels=crf.classes_)"
   ]
  },
  {
   "cell_type": "code",
   "execution_count": 105,
   "metadata": {
    "id": "qOnE8Qv6lCAc"
   },
   "outputs": [
    {
     "data": {
      "text/plain": [
       "<sklearn.metrics._plot.confusion_matrix.ConfusionMatrixDisplay at 0x11a76ae20>"
      ]
     },
     "execution_count": 105,
     "metadata": {},
     "output_type": "execute_result"
    },
    {
     "data": {
      "image/png": "[encoded data removed]",
      "text/plain": [
       "<Figure size 1600x1000 with 2 Axes>"
      ]
     },
     "metadata": {},
     "output_type": "display_data"
    }
   ],
   "source": [
    "disp = ConfusionMatrixDisplay(confusion_matrix=cm, display_labels=crf.classes_)\n",
    "fig, ax = plt.subplots(figsize=(16,10))\n",
    "disp.plot(ax=ax)"
   ]
  },
  {
   "cell_type": "markdown",
   "metadata": {},
   "source": [
    "NOUN путаются с PROPN - отлично, можно объединить два класса в один и качество будет лучше. И те, и другие - существительные\n",
    "\n",
    "Глаголы и существительные путаются с прилагательными.\n",
    "\n",
    "PART и CCONJ, DET и PRON я тоже путаю"
   ]
  },
  {
   "cell_type": "markdown",
   "metadata": {},
   "source": [
    "Можно было бы давать возможные разборы слова от pymorphy в помощь... (найти лучшие параметры, в фичах смотреть на большее окно)\n",
    "\n",
    "Но я пока посто попрбую добавить вторую из 4х частей тренировочных данных."
   ]
  },
  {
   "cell_type": "code",
   "execution_count": 108,
   "metadata": {},
   "outputs": [
    {
     "name": "stdout",
     "output_type": "stream",
     "text": [
      "--2023-06-20 19:07:01--  https://raw.githubusercontent.com/UniversalDependencies/UD_Russian-SynTagRus/master/ru_syntagrus-ud-train-b.conllu\n",
      "Распознаётся raw.githubusercontent.com (raw.githubusercontent.com)… 185.199.111.133, 185.199.108.133, 185.199.109.133, ...\n",
      "Подключение к raw.githubusercontent.com (raw.githubusercontent.com)|185.199.111.133|:443... соединение установлено.\n",
      "HTTP-запрос отправлен. Ожидание ответа… 200 OK\n",
      "Длина: 42819832 (41M) [text/plain]\n",
      "Сохранение в: «ru_syntagrus-ud-train-b.conllu»\n",
      "\n",
      "ru_syntagrus-ud-tra 100%[===================>]  40,84M  2,95MB/s    за 18s     \n",
      "\n",
      "2023-06-20 19:07:22 (2,22 MB/s) - «ru_syntagrus-ud-train-b.conllu» сохранён [42819832/42819832]\n",
      "\n"
     ]
    }
   ],
   "source": [
    "!wget https://raw.githubusercontent.com/UniversalDependencies/UD_Russian-SynTagRus/master/ru_syntagrus-ud-train-b.conllu"
   ]
  },
  {
   "cell_type": "code",
   "execution_count": 109,
   "metadata": {
    "id": "q8npRgCWfxQG"
   },
   "outputs": [
    {
     "name": "stderr",
     "output_type": "stream",
     "text": [
      "24298it [00:21, 1111.91it/s]\n"
     ]
    }
   ],
   "source": [
    "X_train2, y_train2 = get_features_labels(\"ru_syntagrus-ud-train-b.conllu\")"
   ]
  },
  {
   "cell_type": "code",
   "execution_count": 120,
   "metadata": {},
   "outputs": [
    {
     "data": {
      "text/plain": [
       "(24516, 24516)"
      ]
     },
     "execution_count": 120,
     "metadata": {},
     "output_type": "execute_result"
    }
   ],
   "source": [
    "len(X_train), len(y_train)"
   ]
  },
  {
   "cell_type": "code",
   "execution_count": 121,
   "metadata": {},
   "outputs": [],
   "source": [
    "X_train += X_train2\n",
    "y_train += y_train2"
   ]
  },
  {
   "cell_type": "code",
   "execution_count": 122,
   "metadata": {},
   "outputs": [
    {
     "data": {
      "text/plain": [
       "(48814, 48814)"
      ]
     },
     "execution_count": 122,
     "metadata": {},
     "output_type": "execute_result"
    }
   ],
   "source": [
    "len(X_train), len(y_train)"
   ]
  },
  {
   "cell_type": "code",
   "execution_count": 123,
   "metadata": {},
   "outputs": [
    {
     "name": "stderr",
     "output_type": "stream",
     "text": [
      "loading training data to CRFsuite: 100%|█| 48814/48814 [00:26<00:00, 1854.22it/s\n"
     ]
    },
    {
     "name": "stdout",
     "output_type": "stream",
     "text": [
      "\n",
      "Feature generation\n",
      "type: CRF1d\n",
      "feature.minfreq: 0.000000\n",
      "feature.possible_states: 0\n",
      "feature.possible_transitions: 1\n",
      "0....1....2....3....4....5....6....7....8....9....10\n",
      "Number of features: 326641\n",
      "Seconds required: 5.597\n",
      "\n",
      "L-BFGS optimization\n",
      "c1: 0.100000\n",
      "c2: 0.100000\n",
      "num_memories: 6\n",
      "max_iterations: 100\n",
      "epsilon: 0.000010\n",
      "stop: 10\n",
      "delta: 0.000010\n",
      "linesearch: MoreThuente\n",
      "linesearch.max_iterations: 20\n",
      "\n",
      "Iter 1   time=4.26  loss=2212618.80 active=323009 feature_norm=1.00\n",
      "Iter 2   time=2.04  loss=1792047.19 active=318319 feature_norm=8.55\n",
      "Iter 3   time=1.91  loss=1406131.61 active=311694 feature_norm=9.00\n",
      "Iter 4   time=1.92  loss=1270269.24 active=319272 feature_norm=9.25\n",
      "Iter 5   time=1.95  loss=1108319.19 active=319207 feature_norm=10.88\n",
      "Iter 6   time=1.73  loss=919602.12 active=318641 feature_norm=15.14\n",
      "Iter 7   time=1.98  loss=772319.22 active=318349 feature_norm=21.51\n",
      "Iter 8   time=1.97  loss=665668.76 active=318936 feature_norm=25.62\n",
      "Iter 9   time=1.83  loss=583824.59 active=318252 feature_norm=30.32\n",
      "Iter 10  time=1.95  loss=492672.79 active=314983 feature_norm=37.71\n",
      "Iter 11  time=1.95  loss=449803.51 active=305206 feature_norm=48.20\n",
      "Iter 12  time=1.90  loss=395414.27 active=306489 feature_norm=50.35\n",
      "Iter 13  time=1.76  loss=372029.21 active=305432 feature_norm=53.25\n",
      "Iter 14  time=1.73  loss=335613.81 active=302066 feature_norm=59.40\n",
      "Iter 15  time=1.77  loss=292895.68 active=293067 feature_norm=70.43\n",
      "Iter 16  time=1.71  loss=261405.94 active=283685 feature_norm=79.27\n",
      "Iter 17  time=1.78  loss=242837.35 active=281938 feature_norm=83.05\n",
      "Iter 18  time=1.89  loss=221651.08 active=272956 feature_norm=92.27\n",
      "Iter 19  time=1.75  loss=203316.18 active=270389 feature_norm=100.44\n",
      "Iter 20  time=1.83  loss=186709.59 active=263595 feature_norm=109.10\n",
      "Iter 21  time=1.73  loss=168647.04 active=252352 feature_norm=122.01\n",
      "Iter 22  time=3.37  loss=159797.09 active=245065 feature_norm=130.69\n",
      "Iter 23  time=1.71  loss=148151.02 active=238426 feature_norm=139.01\n",
      "Iter 24  time=1.97  loss=135716.22 active=229569 feature_norm=152.30\n",
      "Iter 25  time=1.93  loss=124446.36 active=221497 feature_norm=166.26\n",
      "Iter 26  time=2.04  loss=115592.98 active=214875 feature_norm=186.25\n",
      "Iter 27  time=1.74  loss=106795.87 active=213184 feature_norm=197.28\n",
      "Iter 28  time=1.77  loss=101336.67 active=205712 feature_norm=207.41\n",
      "Iter 29  time=1.82  loss=93562.91 active=194210 feature_norm=227.24\n",
      "Iter 30  time=1.85  loss=87659.34 active=188834 feature_norm=244.22\n",
      "Iter 31  time=1.76  loss=83268.25 active=182796 feature_norm=256.16\n",
      "Iter 32  time=1.74  loss=79038.97 active=176616 feature_norm=271.46\n",
      "Iter 33  time=1.78  loss=75638.53 active=166489 feature_norm=290.30\n",
      "Iter 34  time=2.13  loss=72770.27 active=164464 feature_norm=298.34\n",
      "Iter 35  time=2.16  loss=70339.53 active=160170 feature_norm=309.19\n",
      "Iter 36  time=1.87  loss=67980.48 active=158054 feature_norm=320.87\n",
      "Iter 37  time=1.90  loss=66461.47 active=150789 feature_norm=333.51\n",
      "Iter 38  time=1.95  loss=64563.96 active=148505 feature_norm=338.23\n",
      "Iter 39  time=1.95  loss=63643.28 active=147069 feature_norm=343.55\n",
      "Iter 40  time=2.00  loss=62419.01 active=141841 feature_norm=351.97\n",
      "Iter 41  time=2.61  loss=61508.44 active=138909 feature_norm=356.27\n",
      "Iter 42  time=2.37  loss=60862.74 active=137763 feature_norm=360.53\n",
      "Iter 43  time=1.74  loss=60178.33 active=133236 feature_norm=366.23\n",
      "Iter 44  time=1.65  loss=59905.74 active=128346 feature_norm=370.31\n",
      "Iter 45  time=1.72  loss=59487.35 active=126462 feature_norm=372.38\n",
      "Iter 46  time=1.64  loss=59229.49 active=125165 feature_norm=374.65\n",
      "Iter 47  time=1.63  loss=58876.38 active=123273 feature_norm=378.02\n",
      "Iter 48  time=1.89  loss=58627.86 active=122119 feature_norm=379.38\n",
      "Iter 49  time=1.68  loss=58405.41 active=120703 feature_norm=380.00\n",
      "Iter 50  time=1.75  loss=58131.34 active=118466 feature_norm=380.97\n",
      "Iter 51  time=1.84  loss=57912.60 active=116914 feature_norm=381.22\n",
      "Iter 52  time=1.88  loss=57725.15 active=115766 feature_norm=381.59\n",
      "Iter 53  time=1.80  loss=57561.21 active=114475 feature_norm=381.40\n",
      "Iter 54  time=2.04  loss=57392.73 active=112579 feature_norm=381.56\n",
      "Iter 55  time=1.96  loss=57253.35 active=111358 feature_norm=381.44\n",
      "Iter 56  time=1.76  loss=57126.87 active=110203 feature_norm=381.56\n",
      "Iter 57  time=1.88  loss=57017.07 active=108895 feature_norm=381.70\n",
      "Iter 58  time=2.34  loss=56919.84 active=107593 feature_norm=381.94\n",
      "Iter 59  time=2.05  loss=56833.21 active=106777 feature_norm=382.19\n",
      "Iter 60  time=1.82  loss=56751.78 active=105921 feature_norm=382.50\n",
      "Iter 61  time=1.83  loss=56683.55 active=105291 feature_norm=382.75\n",
      "Iter 62  time=1.78  loss=56621.61 active=104709 feature_norm=382.96\n",
      "Iter 63  time=1.92  loss=56563.87 active=103975 feature_norm=383.17\n",
      "Iter 64  time=1.94  loss=56506.52 active=103104 feature_norm=383.42\n",
      "Iter 65  time=1.87  loss=56453.09 active=102281 feature_norm=383.65\n",
      "Iter 66  time=2.05  loss=56400.95 active=101812 feature_norm=383.86\n",
      "Iter 67  time=2.12  loss=56359.67 active=101209 feature_norm=384.07\n",
      "Iter 68  time=1.86  loss=56314.56 active=100791 feature_norm=384.27\n",
      "Iter 69  time=2.06  loss=56281.66 active=100324 feature_norm=384.46\n",
      "Iter 70  time=1.88  loss=56243.22 active=99922 feature_norm=384.65\n",
      "Iter 71  time=2.26  loss=56213.79 active=99566 feature_norm=384.83\n",
      "Iter 72  time=1.91  loss=56181.84 active=99275 feature_norm=385.01\n",
      "Iter 73  time=2.06  loss=56157.71 active=98904 feature_norm=385.17\n",
      "Iter 74  time=2.28  loss=56128.26 active=98665 feature_norm=385.36\n",
      "Iter 75  time=3.08  loss=56105.68 active=98420 feature_norm=385.52\n",
      "Iter 76  time=3.02  loss=56082.14 active=98175 feature_norm=385.69\n",
      "Iter 77  time=2.42  loss=56060.78 active=97929 feature_norm=385.83\n",
      "Iter 78  time=2.14  loss=56039.60 active=97714 feature_norm=385.98\n",
      "Iter 79  time=2.08  loss=56021.59 active=97529 feature_norm=386.11\n",
      "Iter 80  time=1.87  loss=56003.41 active=97368 feature_norm=386.24\n",
      "Iter 81  time=2.06  loss=55986.62 active=97221 feature_norm=386.36\n",
      "Iter 82  time=1.78  loss=55971.10 active=97066 feature_norm=386.50\n",
      "Iter 83  time=2.00  loss=55953.99 active=96858 feature_norm=386.61\n",
      "Iter 84  time=2.99  loss=55939.94 active=96716 feature_norm=386.73\n",
      "Iter 85  time=3.49  loss=55923.91 active=96578 feature_norm=386.82\n",
      "Iter 86  time=4.05  loss=55911.78 active=96461 feature_norm=386.94\n",
      "Iter 87  time=3.77  loss=55896.41 active=96366 feature_norm=387.02\n",
      "Iter 88  time=3.58  loss=55886.36 active=96235 feature_norm=387.13\n",
      "Iter 89  time=3.82  loss=55871.58 active=96145 feature_norm=387.21\n",
      "Iter 90  time=3.42  loss=55861.70 active=96062 feature_norm=387.30\n",
      "Iter 91  time=3.17  loss=55848.78 active=95937 feature_norm=387.39\n",
      "Iter 92  time=2.95  loss=55839.10 active=95841 feature_norm=387.48\n",
      "Iter 93  time=2.60  loss=55827.95 active=95784 feature_norm=387.55\n",
      "Iter 94  time=2.61  loss=55819.42 active=95698 feature_norm=387.65\n",
      "Iter 95  time=3.71  loss=55807.97 active=95604 feature_norm=387.72\n",
      "Iter 96  time=2.60  loss=55800.06 active=95521 feature_norm=387.81\n",
      "Iter 97  time=2.10  loss=55790.00 active=95465 feature_norm=387.88\n",
      "Iter 98  time=2.35  loss=55782.92 active=95379 feature_norm=387.96\n",
      "Iter 99  time=3.20  loss=55771.76 active=95307 feature_norm=388.03\n",
      "Iter 100 time=2.26  loss=55765.81 active=95234 feature_norm=388.10\n",
      "L-BFGS terminated with the maximum number of iterations\n",
      "Total seconds required for training: 217.760\n",
      "\n",
      "Storing the model\n",
      "Number of active features: 95234 (326641)\n",
      "Number of active attributes: 58687 (185287)\n",
      "Number of active labels: 18 (18)\n",
      "Writing labels\n",
      "Writing attributes\n",
      "Writing feature references for transitions\n",
      "Writing feature references for attributes\n",
      "Seconds required: 0.746\n",
      "\n"
     ]
    },
    {
     "data": {
      "text/html": [
       "<style>#sk-container-id-3 {color: black;background-color: white;}#sk-container-id-3 pre{padding: 0;}#sk-container-id-3 div.sk-toggleable {background-color: white;}#sk-container-id-3 label.sk-toggleable__label {cursor: pointer;display: block;width: 100%;margin-bottom: 0;padding: 0.3em;box-sizing: border-box;text-align: center;}#sk-container-id-3 label.sk-toggleable__label-arrow:before {content: \"▸\";float: left;margin-right: 0.25em;color: #696969;}#sk-container-id-3 label.sk-toggleable__label-arrow:hover:before {color: black;}#sk-container-id-3 div.sk-estimator:hover label.sk-toggleable__label-arrow:before {color: black;}#sk-container-id-3 div.sk-toggleable__content {max-height: 0;max-width: 0;overflow: hidden;text-align: left;background-color: #f0f8ff;}#sk-container-id-3 div.sk-toggleable__content pre {margin: 0.2em;color: black;border-radius: 0.25em;background-color: #f0f8ff;}#sk-container-id-3 input.sk-toggleable__control:checked~div.sk-toggleable__content {max-height: 200px;max-width: 100%;overflow: auto;}#sk-container-id-3 input.sk-toggleable__control:checked~label.sk-toggleable__label-arrow:before {content: \"▾\";}#sk-container-id-3 div.sk-estimator input.sk-toggleable__control:checked~label.sk-toggleable__label {background-color: #d4ebff;}#sk-container-id-3 div.sk-label input.sk-toggleable__control:checked~label.sk-toggleable__label {background-color: #d4ebff;}#sk-container-id-3 input.sk-hidden--visually {border: 0;clip: rect(1px 1px 1px 1px);clip: rect(1px, 1px, 1px, 1px);height: 1px;margin: -1px;overflow: hidden;padding: 0;position: absolute;width: 1px;}#sk-container-id-3 div.sk-estimator {font-family: monospace;background-color: #f0f8ff;border: 1px dotted black;border-radius: 0.25em;box-sizing: border-box;margin-bottom: 0.5em;}#sk-container-id-3 div.sk-estimator:hover {background-color: #d4ebff;}#sk-container-id-3 div.sk-parallel-item::after {content: \"\";width: 100%;border-bottom: 1px solid gray;flex-grow: 1;}#sk-container-id-3 div.sk-label:hover label.sk-toggleable__label {background-color: #d4ebff;}#sk-container-id-3 div.sk-serial::before {content: \"\";position: absolute;border-left: 1px solid gray;box-sizing: border-box;top: 0;bottom: 0;left: 50%;z-index: 0;}#sk-container-id-3 div.sk-serial {display: flex;flex-direction: column;align-items: center;background-color: white;padding-right: 0.2em;padding-left: 0.2em;position: relative;}#sk-container-id-3 div.sk-item {position: relative;z-index: 1;}#sk-container-id-3 div.sk-parallel {display: flex;align-items: stretch;justify-content: center;background-color: white;position: relative;}#sk-container-id-3 div.sk-item::before, #sk-container-id-3 div.sk-parallel-item::before {content: \"\";position: absolute;border-left: 1px solid gray;box-sizing: border-box;top: 0;bottom: 0;left: 50%;z-index: -1;}#sk-container-id-3 div.sk-parallel-item {display: flex;flex-direction: column;z-index: 1;position: relative;background-color: white;}#sk-container-id-3 div.sk-parallel-item:first-child::after {align-self: flex-end;width: 50%;}#sk-container-id-3 div.sk-parallel-item:last-child::after {align-self: flex-start;width: 50%;}#sk-container-id-3 div.sk-parallel-item:only-child::after {width: 0;}#sk-container-id-3 div.sk-dashed-wrapped {border: 1px dashed gray;margin: 0 0.4em 0.5em 0.4em;box-sizing: border-box;padding-bottom: 0.4em;background-color: white;}#sk-container-id-3 div.sk-label label {font-family: monospace;font-weight: bold;display: inline-block;line-height: 1.2em;}#sk-container-id-3 div.sk-label-container {text-align: center;}#sk-container-id-3 div.sk-container {/* jupyter's `normalize.less` sets `[hidden] { display: none; }` but bootstrap.min.css set `[hidden] { display: none !important; }` so we also need the `!important` here to be able to override the default hidden behavior on the sphinx rendered scikit-learn.org. See: https://github.com/scikit-learn/scikit-learn/issues/21755 */display: inline-block !important;position: relative;}#sk-container-id-3 div.sk-text-repr-fallback {display: none;}</style><div id=\"sk-container-id-3\" class=\"sk-top-container\"><div class=\"sk-text-repr-fallback\"><pre>CRF(algorithm=&#x27;lbfgs&#x27;, all_possible_transitions=True, c1=0.1, c2=0.1,\n",
       "    max_iterations=100, verbose=True)</pre><b>In a Jupyter environment, please rerun this cell to show the HTML representation or trust the notebook. <br />On GitHub, the HTML representation is unable to render, please try loading this page with nbviewer.org.</b></div><div class=\"sk-container\" hidden><div class=\"sk-item\"><div class=\"sk-estimator sk-toggleable\"><input class=\"sk-toggleable__control sk-hidden--visually\" id=\"sk-estimator-id-3\" type=\"checkbox\" checked><label for=\"sk-estimator-id-3\" class=\"sk-toggleable__label sk-toggleable__label-arrow\">CRF</label><div class=\"sk-toggleable__content\"><pre>CRF(algorithm=&#x27;lbfgs&#x27;, all_possible_transitions=True, c1=0.1, c2=0.1,\n",
       "    max_iterations=100, verbose=True)</pre></div></div></div></div></div>"
      ],
      "text/plain": [
       "CRF(algorithm='lbfgs', all_possible_transitions=True, c1=0.1, c2=0.1,\n",
       "    max_iterations=100, verbose=True)"
      ]
     },
     "execution_count": 123,
     "metadata": {},
     "output_type": "execute_result"
    }
   ],
   "source": [
    "crf2 = sklearn_crfsuite.CRF(\n",
    "    algorithm='lbfgs',\n",
    "    c1=0.1,\n",
    "    c2=0.1,\n",
    "    max_iterations=100,\n",
    "    all_possible_transitions=True,\n",
    "    verbose=True\n",
    ")\n",
    "\n",
    "crf2.fit(X_train, y_train)"
   ]
  },
  {
   "cell_type": "code",
   "execution_count": 124,
   "metadata": {},
   "outputs": [],
   "source": [
    "y_pred2 = crf.predict(X_test)"
   ]
  },
  {
   "cell_type": "code",
   "execution_count": 125,
   "metadata": {},
   "outputs": [],
   "source": [
    "labels = list(crf2.classes_)"
   ]
  },
  {
   "cell_type": "code",
   "execution_count": 126,
   "metadata": {},
   "outputs": [
    {
     "name": "stdout",
     "output_type": "stream",
     "text": [
      "              precision    recall  f1-score   support\n",
      "\n",
      "        NOUN      0.979     0.947     0.963     36568\n",
      "       PUNCT      1.000     1.000     1.000     29463\n",
      "         ADJ      0.900     0.939     0.919     14471\n",
      "       PROPN      0.705     0.967     0.816      5883\n",
      "         AUX      0.939     0.922     0.931      1518\n",
      "        VERB      0.962     0.928     0.945     18146\n",
      "         ADP      0.998     0.995     0.996     15062\n",
      "         ADV      0.927     0.901     0.914      8085\n",
      "       CCONJ      0.958     0.963     0.961      5736\n",
      "        PART      0.950     0.879     0.913      4921\n",
      "        PRON      0.958     0.946     0.952      8015\n",
      "         DET      0.941     0.877     0.908      4094\n",
      "       SCONJ      0.897     0.948     0.922      2992\n",
      "         NUM      0.953     0.920     0.937      2528\n",
      "           _      1.000     1.000     1.000       271\n",
      "        INTJ      1.000     0.130     0.231        23\n",
      "           X      0.947     0.375     0.537        48\n",
      "         SYM      1.000     1.000     1.000       165\n",
      "\n",
      "    accuracy                          0.953    157989\n",
      "   macro avg      0.945     0.869     0.880    157989\n",
      "weighted avg      0.957     0.953     0.954    157989\n",
      "\n"
     ]
    }
   ],
   "source": [
    "print(metrics.flat_classification_report(y_test, y_pred2, labels=labels, digits=3))"
   ]
  },
  {
   "cell_type": "markdown",
   "metadata": {},
   "source": [
    "Ну вот, ничего не изменилось... Видимо, правда для улучшения надо фичи и параметры подбирать."
   ]
  }
 ],
 "metadata": {
  "colab": {
   "provenance": []
  },
  "kernelspec": {
   "display_name": "Python 3 (ipykernel)",
   "language": "python",
   "name": "python3"
  },
  "language_info": {
   "codemirror_mode": {
    "name": "ipython",
    "version": 3
   },
   "file_extension": ".py",
   "mimetype": "text/x-python",
   "name": "python",
   "nbconvert_exporter": "python",
   "pygments_lexer": "ipython3",
   "version": "3.9.16"
  }
 },
 "nbformat": 4,
 "nbformat_minor": 1
}
